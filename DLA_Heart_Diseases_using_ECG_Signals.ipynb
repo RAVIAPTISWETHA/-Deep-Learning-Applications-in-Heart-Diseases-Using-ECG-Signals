{
  "nbformat": 4,
  "nbformat_minor": 0,
  "metadata": {
    "colab": {
      "provenance": [],
      "gpuType": "T4",
      "authorship_tag": "ABX9TyN0MRmUgBfIj+aMaS5YhQFp",
      "include_colab_link": true
    },
    "kernelspec": {
      "name": "python3",
      "display_name": "Python 3"
    },
    "language_info": {
      "name": "python"
    },
    "accelerator": "GPU"
  },
  "cells": [
    {
      "cell_type": "markdown",
      "metadata": {
        "id": "view-in-github",
        "colab_type": "text"
      },
      "source": [
        "<a href=\"https://colab.research.google.com/github/RAVIAPTISWETHA/-Deep-Learning-Applications-in-Heart-Diseases-Using-ECG-Signals/blob/main/DLA_Heart_Diseases_using_ECG_Signals.ipynb\" target=\"_parent\"><img src=\"https://colab.research.google.com/assets/colab-badge.svg\" alt=\"Open In Colab\"/></a>"
      ]
    },
    {
      "cell_type": "markdown",
      "source": [
        "## **Installing Libraries**\n"
      ],
      "metadata": {
        "id": "Bd4ij4F2Uppn"
      }
    },
    {
      "cell_type": "code",
      "source": [
        "import numpy as np\n",
        "import pandas as pd\n",
        "import os\n",
        "import matplotlib.pyplot as plt\n",
        "import seaborn as sns"
      ],
      "metadata": {
        "trusted": true,
        "execution": {
          "iopub.status.busy": "2025-06-25T15:16:25.395135Z",
          "iopub.execute_input": "2025-06-25T15:16:25.395362Z",
          "iopub.status.idle": "2025-06-25T15:16:26.855081Z",
          "shell.execute_reply.started": "2025-06-25T15:16:25.395335Z",
          "shell.execute_reply": "2025-06-25T15:16:26.854343Z"
        },
        "id": "JIrpb08mYvBk"
      },
      "outputs": [],
      "execution_count": 27
    },
    {
      "cell_type": "code",
      "source": [
        "from google.colab import drive\n",
        "drive.mount('/content/drive')"
      ],
      "metadata": {
        "colab": {
          "base_uri": "https://localhost:8080/"
        },
        "id": "fB8r1wy4LuKI",
        "outputId": "e2b5be5c-d70e-4fe5-ea1c-e4441ec27cea"
      },
      "execution_count": 28,
      "outputs": [
        {
          "output_type": "stream",
          "name": "stdout",
          "text": [
            "Drive already mounted at /content/drive; to attempt to forcibly remount, call drive.mount(\"/content/drive\", force_remount=True).\n"
          ]
        }
      ]
    },
    {
      "cell_type": "markdown",
      "source": [
        "## **Data Loading**"
      ],
      "metadata": {
        "id": "rfOQwQMfVb7x"
      }
    },
    {
      "cell_type": "code",
      "source": [
        "dir_train = '/content/drive/My Drive/Colab Notebooks/ECGK/ECG/train'\n",
        "dir_test = '/content/drive/My Drive/Colab Notebooks/ECGK/ECG/test'\n",
        "dir_mendeley = '/content/drive/My Drive/Colab Notebooks/ECGM'"
      ],
      "metadata": {
        "id": "l5GkkezkVsbx"
      },
      "execution_count": 29,
      "outputs": []
    },
    {
      "cell_type": "code",
      "source": [
        "def dataloader(dir ):\n",
        "    folders = os.listdir(dir)\n",
        "    file_path = []\n",
        "    labels = []\n",
        "    sub_folders =[]\n",
        "    for folder in folders:\n",
        "        sub_folder = os.path.join(dir, folder)\n",
        "        sub_list = os.listdir(sub_folder)\n",
        "        for file in sub_list:\n",
        "            f_path = os.path.join(sub_folder, file)\n",
        "            file_path.append(f_path)\n",
        "            labels.append(folder)\n",
        "    return file_path, labels\n",
        "train_file_path, train_labels = dataloader(dir_train )\n",
        "print(len(train_file_path))\n",
        "test_file_path, test_labels = dataloader(dir_test )\n",
        "mendeley_path, mendeley_labels = dataloader(dir_mendeley )\n",
        "combined_filepath = test_file_path + train_file_path + mendeley_path\n",
        "combined_labels = train_labels +  test_labels + mendeley_labels\n",
        "print(len(combined_filepath))\n",
        "df = pd.DataFrame({'file_path': combined_filepath, \"labels\": combined_labels})\n",
        "df.labels.value_counts()"
      ],
      "metadata": {
        "trusted": true,
        "execution": {
          "iopub.status.busy": "2025-06-25T10:25:39.254239Z",
          "iopub.execute_input": "2025-06-25T10:25:39.254932Z",
          "iopub.status.idle": "2025-06-25T10:25:39.285708Z",
          "shell.execute_reply.started": "2025-06-25T10:25:39.254897Z",
          "shell.execute_reply": "2025-06-25T10:25:39.285106Z"
        },
        "colab": {
          "base_uri": "https://localhost:8080/",
          "height": 369
        },
        "id": "d8SHEtb_YvBn",
        "outputId": "b8e6859c-7614-4134-e646-f5abc2201880"
      },
      "outputs": [
        {
          "output_type": "stream",
          "name": "stdout",
          "text": [
            "3023\n",
            "4658\n"
          ]
        },
        {
          "output_type": "execute_result",
          "data": {
            "text/plain": [
              "labels\n",
              "ECG Images of Myocardial Infarction Patients (240x12=2880)          1195\n",
              "Normal Person ECG Images (284x12=3408)                              1136\n",
              "ECG Images of Patient that have abnormal heartbeat (233x12=2796)     932\n",
              "ECG Images of Patient that have History of MI (172x12=2064)          688\n",
              "Normal Person                                                        295\n",
              "Abnormal heartbeat                                                   241\n",
              "History of MI                                                        171\n",
              "Name: count, dtype: int64"
            ],
            "text/html": [
              "<div>\n",
              "<style scoped>\n",
              "    .dataframe tbody tr th:only-of-type {\n",
              "        vertical-align: middle;\n",
              "    }\n",
              "\n",
              "    .dataframe tbody tr th {\n",
              "        vertical-align: top;\n",
              "    }\n",
              "\n",
              "    .dataframe thead th {\n",
              "        text-align: right;\n",
              "    }\n",
              "</style>\n",
              "<table border=\"1\" class=\"dataframe\">\n",
              "  <thead>\n",
              "    <tr style=\"text-align: right;\">\n",
              "      <th></th>\n",
              "      <th>count</th>\n",
              "    </tr>\n",
              "    <tr>\n",
              "      <th>labels</th>\n",
              "      <th></th>\n",
              "    </tr>\n",
              "  </thead>\n",
              "  <tbody>\n",
              "    <tr>\n",
              "      <th>ECG Images of Myocardial Infarction Patients (240x12=2880)</th>\n",
              "      <td>1195</td>\n",
              "    </tr>\n",
              "    <tr>\n",
              "      <th>Normal Person ECG Images (284x12=3408)</th>\n",
              "      <td>1136</td>\n",
              "    </tr>\n",
              "    <tr>\n",
              "      <th>ECG Images of Patient that have abnormal heartbeat (233x12=2796)</th>\n",
              "      <td>932</td>\n",
              "    </tr>\n",
              "    <tr>\n",
              "      <th>ECG Images of Patient that have History of MI (172x12=2064)</th>\n",
              "      <td>688</td>\n",
              "    </tr>\n",
              "    <tr>\n",
              "      <th>Normal Person</th>\n",
              "      <td>295</td>\n",
              "    </tr>\n",
              "    <tr>\n",
              "      <th>Abnormal heartbeat</th>\n",
              "      <td>241</td>\n",
              "    </tr>\n",
              "    <tr>\n",
              "      <th>History of MI</th>\n",
              "      <td>171</td>\n",
              "    </tr>\n",
              "  </tbody>\n",
              "</table>\n",
              "</div><br><label><b>dtype:</b> int64</label>"
            ]
          },
          "metadata": {},
          "execution_count": 30
        }
      ],
      "execution_count": 30
    },
    {
      "cell_type": "code",
      "source": [
        "df['labels'] = df['labels'].replace(\"ECG Images of Myocardial Infarction Patients (240x12=2880)\", \"History of MI\")\n",
        "df['labels'] = df['labels'].replace(\"ECG Images of Patient that have History of MI (172x12=2064)\", \"History of MI\")\n",
        "df['labels'] = df['labels'].replace(\"ECG Images of Patient that have abnormal heartbeat (233x12=2796)\", \"Abnormal heartbeat\")\n",
        "df['labels'] = df['labels'].replace(\"Normal Person ECG Images (284x12=3408)\", \"Normal Person\")\n",
        "df.labels.value_counts()"
      ],
      "metadata": {
        "trusted": true,
        "execution": {
          "iopub.status.busy": "2025-06-25T10:25:43.724104Z",
          "iopub.execute_input": "2025-06-25T10:25:43.724522Z",
          "iopub.status.idle": "2025-06-25T10:25:43.732892Z",
          "shell.execute_reply.started": "2025-06-25T10:25:43.724502Z",
          "shell.execute_reply": "2025-06-25T10:25:43.732250Z"
        },
        "id": "kNStPoiQYvBp",
        "colab": {
          "base_uri": "https://localhost:8080/",
          "height": 209
        },
        "outputId": "e0c6724d-5ab7-4b43-aeb9-c18663acff9d"
      },
      "outputs": [
        {
          "output_type": "execute_result",
          "data": {
            "text/plain": [
              "labels\n",
              "History of MI         2054\n",
              "Normal Person         1431\n",
              "Abnormal heartbeat    1173\n",
              "Name: count, dtype: int64"
            ],
            "text/html": [
              "<div>\n",
              "<style scoped>\n",
              "    .dataframe tbody tr th:only-of-type {\n",
              "        vertical-align: middle;\n",
              "    }\n",
              "\n",
              "    .dataframe tbody tr th {\n",
              "        vertical-align: top;\n",
              "    }\n",
              "\n",
              "    .dataframe thead th {\n",
              "        text-align: right;\n",
              "    }\n",
              "</style>\n",
              "<table border=\"1\" class=\"dataframe\">\n",
              "  <thead>\n",
              "    <tr style=\"text-align: right;\">\n",
              "      <th></th>\n",
              "      <th>count</th>\n",
              "    </tr>\n",
              "    <tr>\n",
              "      <th>labels</th>\n",
              "      <th></th>\n",
              "    </tr>\n",
              "  </thead>\n",
              "  <tbody>\n",
              "    <tr>\n",
              "      <th>History of MI</th>\n",
              "      <td>2054</td>\n",
              "    </tr>\n",
              "    <tr>\n",
              "      <th>Normal Person</th>\n",
              "      <td>1431</td>\n",
              "    </tr>\n",
              "    <tr>\n",
              "      <th>Abnormal heartbeat</th>\n",
              "      <td>1173</td>\n",
              "    </tr>\n",
              "  </tbody>\n",
              "</table>\n",
              "</div><br><label><b>dtype:</b> int64</label>"
            ]
          },
          "metadata": {},
          "execution_count": 31
        }
      ],
      "execution_count": 31
    }
  ]
}